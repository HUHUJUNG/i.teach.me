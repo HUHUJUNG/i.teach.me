{
  "nbformat": 4,
  "nbformat_minor": 0,
  "metadata": {
    "colab": {
      "name": "flatten",
      "provenance": [],
      "collapsed_sections": []
    },
    "kernelspec": {
      "name": "python3",
      "display_name": "Python 3"
    }
  },
  "cells": [
    {
      "cell_type": "markdown",
      "metadata": {
        "id": "TaQOLrzYlH37"
      },
      "source": [
        "#Reshape를 활용한 모델"
      ]
    },
    {
      "cell_type": "code",
      "metadata": {
        "id": "UNihjq1W_FD6"
      },
      "source": [
        "import pandas as pd\n",
        "import tensorflow as tf"
      ],
      "execution_count": null,
      "outputs": []
    },
    {
      "cell_type": "markdown",
      "metadata": {
        "id": "dXAKw0xLx7jy"
      },
      "source": [
        "#데이터를 준비"
      ]
    },
    {
      "cell_type": "code",
      "metadata": {
        "id": "RBjrfWWilGco"
      },
      "source": [
        "(independent, dependent) = "
      ],
      "execution_count": null,
      "outputs": []
    }
  ]
}