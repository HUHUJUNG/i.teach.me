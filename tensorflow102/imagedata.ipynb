{
  "nbformat": 4,
  "nbformat_minor": 0,
  "metadata": {
    "colab": {
      "name": "imagedata.ipynb",
      "provenance": []
    },
    "kernelspec": {
      "name": "python3",
      "display_name": "Python 3"
    }
  },
  "cells": [
    {
      "cell_type": "code",
      "metadata": {
        "id": "c3mE8WQz4Xut"
      },
      "source": [
        "import tensorflow as tf\n"
      ],
      "execution_count": 1,
      "outputs": []
    },
    {
      "cell_type": "code",
      "metadata": {
        "colab": {
          "base_uri": "https://localhost:8080/"
        },
        "id": "p2IMTWaD4jiV",
        "outputId": "ae21bdab-b7d8-4dc9-c546-7bccad7fc14a"
      },
      "source": [
        "#mnist_x 독립변수\n",
        "#mnist_y 종속변수 (정답은 6만개의 숫자로 이루어져 있음)\n",
        "#,_ 해야지 에러가 발생하지 않는다 반환하는 값을 사용하지 않다고만 이해\n",
        "(mnist_x, mnist_y), _ = tf.keras.datasets.mnist.load_data()\n",
        "print(mnist_x.shape, mnist_y.shape)\n",
        "\n",
        "(cifar_x, cifar_y), _ = tf.keras.datasets.cifar10.load_data()\n",
        "print(cifar_x.shape, cifar_y.shape)"
      ],
      "execution_count": 5,
      "outputs": [
        {
          "output_type": "stream",
          "text": [
            "(60000, 28, 28) (60000,)\n",
            "(50000, 32, 32, 3) (50000, 1)\n"
          ],
          "name": "stdout"
        }
      ]
    },
    {
      "cell_type": "markdown",
      "metadata": {
        "id": "nN3_rCHb5-S-"
      },
      "source": [
        "#화면출력"
      ]
    },
    {
      "cell_type": "code",
      "metadata": {
        "colab": {
          "base_uri": "https://localhost:8080/",
          "height": 299
        },
        "id": "at48kbBV4-fI",
        "outputId": "0aaad920-e701-409b-b32a-af06974ad752"
      },
      "source": [
        "print(mnist_y[0:10])\n",
        "\n",
        "import matplotlib.pyplot as plt\n",
        "plt.imshow(mnist_x[9], cmap = 'gray')"
      ],
      "execution_count": 15,
      "outputs": [
        {
          "output_type": "stream",
          "text": [
            "[5 0 4 1 9 2 1 3 1 4]\n"
          ],
          "name": "stdout"
        },
        {
          "output_type": "execute_result",
          "data": {
            "text/plain": [
              "<matplotlib.image.AxesImage at 0x7f682e30c0f0>"
            ]
          },
          "metadata": {
            "tags": []
          },
          "execution_count": 15
        },
        {
          "output_type": "display_data",
          "data": {
            "image/png": "[encoded data removed]",
            "text/plain": [
              "<Figure size 432x288 with 1 Axes>"
            ]
          },
          "metadata": {
            "tags": [],
            "needs_background": "light"
          }
        }
      ]
    },
    {
      "cell_type": "code",
      "metadata": {
        "colab": {
          "base_uri": "https://localhost:8080/",
          "height": 456
        },
        "id": "F3C39R4G6IkZ",
        "outputId": "32982401-2f79-4cc5-82e1-2241f4d76b45"
      },
      "source": [
        "#0 - airplane\n",
        "#1 - automobile\n",
        "#2 - bird\n",
        "#3 - cat\n",
        "#4 - deer\n",
        "#5 - dog\n",
        "#6 - frog\n",
        "#7 - horse\n",
        "#8 - shiip\n",
        "#9 - truck\n",
        "print(cifar_y[0:10])\n",
        "import matplotlib.pyplot as plt\n",
        "plt.imshow(cifar_x[9])"
      ],
      "execution_count": 22,
      "outputs": [
        {
          "output_type": "stream",
          "text": [
            "[[6]\n",
            " [9]\n",
            " [9]\n",
            " [4]\n",
            " [1]\n",
            " [1]\n",
            " [2]\n",
            " [7]\n",
            " [8]\n",
            " [3]]\n"
          ],
          "name": "stdout"
        },
        {
          "output_type": "execute_result",
          "data": {
            "text/plain": [
              "<matplotlib.image.AxesImage at 0x7f682de2e4e0>"
            ]
          },
          "metadata": {
            "tags": []
          },
          "execution_count": 22
        },
        {
          "output_type": "display_data",
          "data": {
            "image/png": "[encoded data removed]",
            "text/plain": [
              "<Figure size 432x288 with 1 Axes>"
            ]
          },
          "metadata": {
            "tags": [],
            "needs_background": "light"
          }
        }
      ]
    },
    {
      "cell_type": "markdown",
      "metadata": {
        "id": "zEUzdwCj7ayT"
      },
      "source": [
        "#차원확인"
      ]
    },
    {
      "cell_type": "code",
      "metadata": {
        "colab": {
          "base_uri": "https://localhost:8080/"
        },
        "id": "2kPp2vDi6w4Q",
        "outputId": "27b8b93b-a04a-4cb5-9151-434d9a52587d"
      },
      "source": [
        "import numpy as np\n",
        "d1 = np.array([1, 2, 3, 4, 5])\n",
        "print(d1.shape)\n",
        "\n",
        "d2 =  np.array([d1, d1, d1, d1])\n",
        "print(d2.shape)\n",
        "\n",
        "d3 = np.array([d2, d2, d2])\n",
        "print(d3.shape)\n",
        "\n",
        "d4 = np.array([d3, d3])\n",
        "print(d4.shape)"
      ],
      "execution_count": 26,
      "outputs": [
        {
          "output_type": "stream",
          "text": [
            "(5,)\n",
            "(4, 5)\n",
            "(3, 4, 5)\n",
            "(2, 3, 4, 5)\n"
          ],
          "name": "stdout"
        }
      ]
    },
    {
      "cell_type": "code",
      "metadata": {
        "colab": {
          "base_uri": "https://localhost:8080/"
        },
        "id": "Hwevu4H07p8I",
        "outputId": "287e5d41-fd0b-40de-abf1-88e541a20561"
      },
      "source": [
        "print(mnist_y.shape)\n",
        "print(cifar_y.shape)"
      ],
      "execution_count": 27,
      "outputs": [
        {
          "output_type": "stream",
          "text": [
            "(60000,)\n",
            "(50000, 1)\n"
          ],
          "name": "stdout"
        }
      ]
    },
    {
      "cell_type": "code",
      "metadata": {
        "colab": {
          "base_uri": "https://localhost:8080/"
        },
        "id": "O8oLpEVH8DhM",
        "outputId": "a9ec1bdb-68da-43d0-e39b-7e8a87cd72aa"
      },
      "source": [
        "x1 = np.array([1, 2, 3, 4, 5])\n",
        "print(x1.shape)\n",
        "print(mnist_y[0:5])\n",
        "print(mnist_y[0:5].shape)\n",
        "print()\n",
        "x2 = np.array([[1, 2, 3, 4, 5]])\n",
        "print(x2.shape)\n",
        "print()\n",
        "x3 = np.array([[1], [1], [1], [1], [1]])\n",
        "print(x3.shape)\n",
        "print(cifar_y[0:5])\n",
        "print(cifar_y[0:5].shape)"
      ],
      "execution_count": 35,
      "outputs": [
        {
          "output_type": "stream",
          "text": [
            "(5,)\n",
            "[5 0 4 1 9]\n",
            "(5,)\n",
            "\n",
            "(1, 5)\n",
            "\n",
            "(5, 1)\n",
            "[[6]\n",
            " [9]\n",
            " [9]\n",
            " [4]\n",
            " [1]]\n",
            "(5, 1)\n"
          ],
          "name": "stdout"
        }
      ]
    }
  ]
}