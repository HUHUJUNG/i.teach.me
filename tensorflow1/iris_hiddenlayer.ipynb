{
  "nbformat": 4,
  "nbformat_minor": 0,
  "metadata": {
    "colab": {
      "name": "iris_hiddenlayer.ipynb",
      "provenance": [],
      "collapsed_sections": []
    },
    "kernelspec": {
      "name": "python3",
      "display_name": "Python 3"
    }
  },
  "cells": [
    {
      "cell_type": "code",
      "metadata": {
        "id": "VUm9GouHH_t0"
      },
      "source": [
        "import pandas as pd\n",
        "import tensorflow as tf"
      ],
      "execution_count": 1,
      "outputs": []
    },
    {
      "cell_type": "markdown",
      "metadata": {
        "id": "ZkF4EGSfJEWT"
      },
      "source": [
        "#과거의 데이터를 준비\n"
      ]
    },
    {
      "cell_type": "code",
      "metadata": {
        "colab": {
          "base_uri": "https://localhost:8080/"
        },
        "id": "cXJSqyPDIrgh",
        "outputId": "e8b1e48b-8ef3-4e7c-badd-81bacd5b8088"
      },
      "source": [
        "directory = 'https://raw.githubusercontent.com/blackdew/tensorflow1/master/csv/iris.csv'\n",
        "iris = pd.read_csv(directory)\n",
        "print(iris.shape)\n",
        "iris = pd.get_dummies(iris)\n",
        "print(iris.shape)"
      ],
      "execution_count": 13,
      "outputs": [
        {
          "output_type": "stream",
          "text": [
            "(150, 5)\n",
            "(150, 7)\n"
          ],
          "name": "stdout"
        }
      ]
    },
    {
      "cell_type": "code",
      "metadata": {
        "colab": {
          "base_uri": "https://localhost:8080/"
        },
        "id": "9c2sfeYQJMFN",
        "outputId": "ccbf89f1-17a9-4d21-ee88-49e2d4ec39d4"
      },
      "source": [
        "iris.columns"
      ],
      "execution_count": 14,
      "outputs": [
        {
          "output_type": "execute_result",
          "data": {
            "text/plain": [
              "Index(['꽃잎길이', '꽃잎폭', '꽃받침길이', '꽃받침폭', '품종_setosa', '품종_versicolor',\n",
              "       '품종_virginica'],\n",
              "      dtype='object')"
            ]
          },
          "metadata": {
            "tags": []
          },
          "execution_count": 14
        }
      ]
    },
    {
      "cell_type": "code",
      "metadata": {
        "colab": {
          "base_uri": "https://localhost:8080/"
        },
        "id": "kSLpwvJGI8to",
        "outputId": "f40ccb58-9773-4c80-d9f6-9e787595e404"
      },
      "source": [
        "independent =  iris[['꽃잎길이', '꽃잎폭', '꽃받침길이', '꽃받침폭']]\n",
        "independent_train = independent[:-5]\n",
        "independent_test = independent[-5:]\n",
        "print(\"independent_train : \", independent_train.shape)\n",
        "print(\"independent_test : \", independent_test.shape)\n",
        "\n",
        "dependent =  iris[['품종_setosa', '품종_versicolor', '품종_virginica']]\n",
        "dependent_train = dependent[:-5]\n",
        "dependent_test = dependent[-5:]\n",
        "print(\"dependent_train : \", dependent_train.shape)\n",
        "print(\"dependent_test : \", dependent_test.shape)"
      ],
      "execution_count": 15,
      "outputs": [
        {
          "output_type": "stream",
          "text": [
            "independent_train :  (145, 4)\n",
            "independent_test :  (5, 4)\n",
            "dependent_train :  (145, 3)\n",
            "dependent_test :  (5, 3)\n"
          ],
          "name": "stdout"
        }
      ]
    },
    {
      "cell_type": "markdown",
      "metadata": {
        "id": "9QpwJc7wJ0wF"
      },
      "source": [
        "#모델설계"
      ]
    },
    {
      "cell_type": "code",
      "metadata": {
        "id": "4zAVvWNaJsvk"
      },
      "source": [
        "X = tf.keras.layers.Input(shape = [4])\n",
        "H = tf.keras.layers.Dense(8, activation = \"swish\")(X)\n",
        "H = tf.keras.layers.Dense(32, activation = \"swish\")(H)\n",
        "H = tf.keras.layers.Dense(64, activation = \"swish\")(H)\n",
        "Y = tf.keras.layers.Dense(3, activation = \"softmax\")(H)\n",
        "\n",
        "model = tf.keras.models.Model(X, Y)\n",
        "model.compile(loss = 'categorical_crossentropy', metrics=\"accuracy\")"
      ],
      "execution_count": 27,
      "outputs": []
    },
    {
      "cell_type": "code",
      "metadata": {
        "colab": {
          "base_uri": "https://localhost:8080/"
        },
        "id": "Yx1G-geNNMqI",
        "outputId": "1cae8d41-59bc-41b2-808e-63e79ab114f2"
      },
      "source": [
        "model.summary()"
      ],
      "execution_count": 28,
      "outputs": [
        {
          "output_type": "stream",
          "text": [
            "Model: \"model_3\"\n",
            "_________________________________________________________________\n",
            "Layer (type)                 Output Shape              Param #   \n",
            "=================================================================\n",
            "input_5 (InputLayer)         [(None, 4)]               0         \n",
            "_________________________________________________________________\n",
            "dense_16 (Dense)             (None, 8)                 40        \n",
            "_________________________________________________________________\n",
            "dense_17 (Dense)             (None, 32)                288       \n",
            "_________________________________________________________________\n",
            "dense_18 (Dense)             (None, 64)                2112      \n",
            "_________________________________________________________________\n",
            "dense_19 (Dense)             (None, 3)                 195       \n",
            "=================================================================\n",
            "Total params: 2,635\n",
            "Trainable params: 2,635\n",
            "Non-trainable params: 0\n",
            "_________________________________________________________________\n"
          ],
          "name": "stdout"
        }
      ]
    },
    {
      "cell_type": "markdown",
      "metadata": {
        "id": "a8HZujTTNPY3"
      },
      "source": [
        "#모델 학습시키기"
      ]
    },
    {
      "cell_type": "code",
      "metadata": {
        "colab": {
          "base_uri": "https://localhost:8080/"
        },
        "id": "-I3AjCqxMMFm",
        "outputId": "8148310c-939a-430a-9cb3-4f509a5dcd6e"
      },
      "source": [
        "model.fit(independent_train, dependent_train, epochs=90, verbose = 0)\n",
        "model.fit(independent_train, dependent_train, epochs=10)"
      ],
      "execution_count": 29,
      "outputs": [
        {
          "output_type": "stream",
          "text": [
            "Epoch 1/10\n",
            "5/5 [==============================] - 0s 3ms/step - loss: 0.1130 - accuracy: 0.9517\n",
            "Epoch 2/10\n",
            "5/5 [==============================] - 0s 3ms/step - loss: 0.1021 - accuracy: 0.9586\n",
            "Epoch 3/10\n",
            "5/5 [==============================] - 0s 2ms/step - loss: 0.0945 - accuracy: 0.9655\n",
            "Epoch 4/10\n",
            "5/5 [==============================] - 0s 2ms/step - loss: 0.0966 - accuracy: 0.9517\n",
            "Epoch 5/10\n",
            "5/5 [==============================] - 0s 2ms/step - loss: 0.0933 - accuracy: 0.9655\n",
            "Epoch 6/10\n",
            "5/5 [==============================] - 0s 2ms/step - loss: 0.1032 - accuracy: 0.9724\n",
            "Epoch 7/10\n",
            "5/5 [==============================] - 0s 3ms/step - loss: 0.0962 - accuracy: 0.9586\n",
            "Epoch 8/10\n",
            "5/5 [==============================] - 0s 3ms/step - loss: 0.0928 - accuracy: 0.9724\n",
            "Epoch 9/10\n",
            "5/5 [==============================] - 0s 2ms/step - loss: 0.1149 - accuracy: 0.9379\n",
            "Epoch 10/10\n",
            "5/5 [==============================] - 0s 3ms/step - loss: 0.0939 - accuracy: 0.9586\n"
          ],
          "name": "stdout"
        },
        {
          "output_type": "execute_result",
          "data": {
            "text/plain": [
              "<tensorflow.python.keras.callbacks.History at 0x7f026f4da240>"
            ]
          },
          "metadata": {
            "tags": []
          },
          "execution_count": 29
        }
      ]
    },
    {
      "cell_type": "markdown",
      "metadata": {
        "id": "fCHZNzIpN76J"
      },
      "source": [
        "#모델 이용하기"
      ]
    },
    {
      "cell_type": "code",
      "metadata": {
        "colab": {
          "base_uri": "https://localhost:8080/"
        },
        "id": "2Fh4QDdcNgni",
        "outputId": "da39d10e-806a-4f3a-fc44-f767eeab49c5"
      },
      "source": [
        "print(model.predict(independent_test))"
      ],
      "execution_count": 30,
      "outputs": [
        {
          "output_type": "stream",
          "text": [
            "[[1.6353630e-08 4.8627505e-01 5.1372492e-01]\n",
            " [3.6703000e-08 5.9455526e-01 4.0544468e-01]\n",
            " [9.4599706e-09 3.3764222e-01 6.6235775e-01]\n",
            " [3.1287387e-10 4.1085754e-02 9.5891428e-01]\n",
            " [5.9520175e-09 1.7326565e-01 8.2673436e-01]]\n"
          ],
          "name": "stdout"
        }
      ]
    },
    {
      "cell_type": "code",
      "metadata": {
        "colab": {
          "base_uri": "https://localhost:8080/"
        },
        "id": "4hz3BCbDOG6L",
        "outputId": "01686bfb-7db2-4338-e384-b132a26f3107"
      },
      "source": [
        "print(dependent_test)"
      ],
      "execution_count": 33,
      "outputs": [
        {
          "output_type": "stream",
          "text": [
            "     품종_setosa  품종_versicolor  품종_virginica\n",
            "145          0              0             1\n",
            "146          0              0             1\n",
            "147          0              0             1\n",
            "148          0              0             1\n",
            "149          0              0             1\n"
          ],
          "name": "stdout"
        }
      ]
    }
  ]
}