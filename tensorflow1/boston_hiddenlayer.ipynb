{
  "nbformat": 4,
  "nbformat_minor": 0,
  "metadata": {
    "colab": {
      "name": "boston_hiddenlayer.ipynb",
      "provenance": []
    },
    "kernelspec": {
      "name": "python3",
      "display_name": "Python 3"
    }
  },
  "cells": [
    {
      "cell_type": "markdown",
      "metadata": {
        "id": "TZ1sZOXs7v2T"
      },
      "source": [
        "#라이브러리 불러오기"
      ]
    },
    {
      "cell_type": "code",
      "metadata": {
        "id": "YWpy_KAz7yfk"
      },
      "source": [
        "import tensorflow as tf\n",
        "import pandas as pd"
      ],
      "execution_count": 1,
      "outputs": []
    },
    {
      "cell_type": "markdown",
      "metadata": {
        "id": "NuFZvMrA74nI"
      },
      "source": [
        "#과거 데이터 가져오기"
      ]
    },
    {
      "cell_type": "code",
      "metadata": {
        "colab": {
          "base_uri": "https://localhost:8080/"
        },
        "id": "T-NieEBI78G1",
        "outputId": "a5de906b-cdd3-4eb2-efdb-d3e737d261a3"
      },
      "source": [
        "directory = 'https://raw.githubusercontent.com/blackdew/tensorflow1/master/csv/boston.csv'\n",
        "boston = pd.read_csv(directory)\n",
        "print(boston.shape)"
      ],
      "execution_count": 3,
      "outputs": [
        {
          "output_type": "stream",
          "text": [
            "(506, 14)\n"
          ],
          "name": "stdout"
        }
      ]
    },
    {
      "cell_type": "code",
      "metadata": {
        "colab": {
          "base_uri": "https://localhost:8080/"
        },
        "id": "FGODOKvA_bxX",
        "outputId": "9794f94b-7a13-485f-957f-9eee0a5234b9"
      },
      "source": [
        "boston.columns"
      ],
      "execution_count": 4,
      "outputs": [
        {
          "output_type": "execute_result",
          "data": {
            "text/plain": [
              "Index(['crim', 'zn', 'indus', 'chas', 'nox', 'rm', 'age', 'dis', 'rad', 'tax',\n",
              "       'ptratio', 'b', 'lstat', 'medv'],\n",
              "      dtype='object')"
            ]
          },
          "metadata": {
            "tags": []
          },
          "execution_count": 4
        }
      ]
    },
    {
      "cell_type": "code",
      "metadata": {
        "colab": {
          "base_uri": "https://localhost:8080/"
        },
        "id": "50TIPXAL_nxN",
        "outputId": "234776ed-f14e-4bcd-8a16-bf42f830fbc4"
      },
      "source": [
        "independent = boston[['crim', 'zn', 'indus', 'chas', 'nox', 'rm', 'age', 'dis', 'rad', 'tax', 'ptratio', 'b', 'lstat']]\n",
        "independent_train = independent[:-5]\n",
        "independent_test = independent[-5:]\n",
        "print(\"independent_train : \", independent_train.shape)\n",
        "print(\"independent_test : \", independent_test.shape)\n",
        "\n",
        "\n",
        "dependent = boston[['medv']]\n",
        "dependent_train = dependent[:-5]\n",
        "dependent_test = dependent[-5:]\n",
        "print(\"dependent_train : \", dependent_train.shape)\n",
        "print(\"dependent_test : \", dependent_test.shape)"
      ],
      "execution_count": 25,
      "outputs": [
        {
          "output_type": "stream",
          "text": [
            "independent_train :  (501, 13)\n",
            "independent_test :  (5, 13)\n",
            "dependent_train :  (501, 1)\n",
            "dependent_test :  (5, 1)\n"
          ],
          "name": "stdout"
        }
      ]
    },
    {
      "cell_type": "markdown",
      "metadata": {
        "id": "7Sni4lZ9DYSG"
      },
      "source": [
        "#모델 구조 설계하기"
      ]
    },
    {
      "cell_type": "code",
      "metadata": {
        "id": "Y-ZV_oPFDaDi"
      },
      "source": [
        "X = tf.keras.layers.Input(shape = [13])\n",
        "H = tf.keras.layers.Dense(10, activation = 'swish')(X)\n",
        "Y = tf.keras.layers.Dense(1)(H)\n",
        "model = tf.keras.models.Model(X, Y)\n",
        "model.compile(loss = 'mse')"
      ],
      "execution_count": 32,
      "outputs": []
    },
    {
      "cell_type": "code",
      "metadata": {
        "colab": {
          "base_uri": "https://localhost:8080/"
        },
        "id": "RObv2RjyEmC7",
        "outputId": "62107b60-9bdd-42c1-c6c4-a496a9b65427"
      },
      "source": [
        "#모델확인하기\n",
        "model.summary()"
      ],
      "execution_count": 33,
      "outputs": [
        {
          "output_type": "stream",
          "text": [
            "Model: \"model_4\"\n",
            "_________________________________________________________________\n",
            "Layer (type)                 Output Shape              Param #   \n",
            "=================================================================\n",
            "input_6 (InputLayer)         [(None, 13)]              0         \n",
            "_________________________________________________________________\n",
            "dense_8 (Dense)              (None, 10)                140       \n",
            "_________________________________________________________________\n",
            "dense_9 (Dense)              (None, 1)                 11        \n",
            "=================================================================\n",
            "Total params: 151\n",
            "Trainable params: 151\n",
            "Non-trainable params: 0\n",
            "_________________________________________________________________\n"
          ],
          "name": "stdout"
        }
      ]
    },
    {
      "cell_type": "markdown",
      "metadata": {
        "id": "UiXnBinPEjkp"
      },
      "source": [
        "#모델 학습시키기\n"
      ]
    },
    {
      "cell_type": "code",
      "metadata": {
        "colab": {
          "base_uri": "https://localhost:8080/"
        },
        "id": "nnIaJpkeEZdr",
        "outputId": "617c8d02-5b40-4372-ff64-1764e33641dc"
      },
      "source": [
        "model.fit(independent_train, dependent_train, epochs=90, verbose = 0)\n",
        "model.fit(independent_train, dependent_train, epochs=10)"
      ],
      "execution_count": 37,
      "outputs": [
        {
          "output_type": "stream",
          "text": [
            "Epoch 1/10\n",
            "16/16 [==============================] - 0s 2ms/step - loss: 27.1541\n",
            "Epoch 2/10\n",
            "16/16 [==============================] - 0s 1ms/step - loss: 25.6464\n",
            "Epoch 3/10\n",
            "16/16 [==============================] - 0s 2ms/step - loss: 25.5222\n",
            "Epoch 4/10\n",
            "16/16 [==============================] - 0s 2ms/step - loss: 26.3246\n",
            "Epoch 5/10\n",
            "16/16 [==============================] - 0s 1ms/step - loss: 27.3568\n",
            "Epoch 6/10\n",
            "16/16 [==============================] - 0s 1ms/step - loss: 24.4689\n",
            "Epoch 7/10\n",
            "16/16 [==============================] - 0s 1ms/step - loss: 27.1156\n",
            "Epoch 8/10\n",
            "16/16 [==============================] - 0s 1ms/step - loss: 25.0814\n",
            "Epoch 9/10\n",
            "16/16 [==============================] - 0s 2ms/step - loss: 26.2550\n",
            "Epoch 10/10\n",
            "16/16 [==============================] - 0s 1ms/step - loss: 26.4967\n"
          ],
          "name": "stdout"
        },
        {
          "output_type": "execute_result",
          "data": {
            "text/plain": [
              "<tensorflow.python.keras.callbacks.History at 0x7fc83d5d9e10>"
            ]
          },
          "metadata": {
            "tags": []
          },
          "execution_count": 37
        }
      ]
    },
    {
      "cell_type": "markdown",
      "metadata": {
        "id": "IKoN6wgwHJte"
      },
      "source": [
        "#모델 이용하기"
      ]
    },
    {
      "cell_type": "code",
      "metadata": {
        "colab": {
          "base_uri": "https://localhost:8080/"
        },
        "id": "biXIBx-7F3xn",
        "outputId": "95b3714f-8557-4c23-db0a-bc7cd64c62b5"
      },
      "source": [
        "print(model.predict(independent_test))"
      ],
      "execution_count": 38,
      "outputs": [
        {
          "output_type": "stream",
          "text": [
            "[[24.003063]\n",
            " [24.035908]\n",
            " [28.605772]\n",
            " [27.058147]\n",
            " [24.511177]]\n"
          ],
          "name": "stdout"
        }
      ]
    },
    {
      "cell_type": "code",
      "metadata": {
        "colab": {
          "base_uri": "https://localhost:8080/"
        },
        "id": "g8DTZpOBHWIw",
        "outputId": "ef18da1f-39cc-4cd9-abe2-ca68393dc640"
      },
      "source": [
        "print(dependent_test)"
      ],
      "execution_count": 39,
      "outputs": [
        {
          "output_type": "stream",
          "text": [
            "     medv\n",
            "501  22.4\n",
            "502  20.6\n",
            "503  23.9\n",
            "504  22.0\n",
            "505  11.9\n"
          ],
          "name": "stdout"
        }
      ]
    },
    {
      "cell_type": "code",
      "metadata": {
        "colab": {
          "base_uri": "https://localhost:8080/"
        },
        "id": "HHFhTAVLHq30",
        "outputId": "652aed99-3f39-4568-90e1-c17148835b76"
      },
      "source": [
        "print(model.get_weights())"
      ],
      "execution_count": 42,
      "outputs": [
        {
          "output_type": "stream",
          "text": [
            "[array([[ 0.15571341,  0.23052102, -0.42518228, -0.01485906, -0.208044  ,\n",
            "         0.05345646,  0.31057227,  0.05382002, -0.4833427 , -0.22197637],\n",
            "       [-0.44116107, -0.6446229 , -0.35414115, -0.2768069 ,  0.20548694,\n",
            "         0.16781223, -0.49874234, -0.40032023, -0.42738348,  0.1898976 ],\n",
            "       [-0.10384323, -0.05183771,  0.05934095, -0.04588891,  0.3987859 ,\n",
            "        -0.5399535 ,  0.21527839, -0.1413096 ,  0.11340961, -0.0356561 ],\n",
            "       [-0.7425449 ,  0.93758017, -0.25062758, -1.4536567 ,  1.6412833 ,\n",
            "         1.1105733 , -0.14850792, -1.2184428 , -0.3907838 ,  1.6301022 ],\n",
            "       [ 0.5472807 ,  0.4794325 , -0.34791535,  0.25736383, -0.12824227,\n",
            "        -0.10427354, -0.27776414, -0.07202097, -0.10240573,  0.45080364],\n",
            "       [ 0.00848883,  1.1134853 ,  0.01663911, -0.8563392 , -0.04941513,\n",
            "         1.306314  , -0.3143448 ,  0.17456156, -0.06692391,  1.169255  ],\n",
            "       [ 0.05503562, -0.5397787 , -0.3098511 , -0.3222475 ,  0.16763625,\n",
            "        -0.4214733 , -0.42492196,  0.06202867,  0.15733738,  0.30690283],\n",
            "       [ 0.4324716 , -0.77605647,  0.50808185,  0.40477896, -0.16249655,\n",
            "        -0.6419861 , -0.1488719 , -0.11010882,  0.39378437, -0.27553552],\n",
            "       [ 0.3029713 ,  0.56537354,  0.20366144, -0.0727335 ,  0.15969963,\n",
            "         0.70670587,  0.19524401,  0.19308048, -0.34471005, -0.13776983],\n",
            "       [ 0.24465647,  0.25389436, -0.3526461 ,  0.31574172,  0.29597452,\n",
            "        -0.13797157, -0.36026514,  0.21760145, -0.10416474,  0.18284087],\n",
            "       [-0.22090435,  0.00279433, -0.4413387 ,  0.33668125,  0.17874838,\n",
            "        -0.4819247 , -0.40650776,  0.1812426 , -0.07069819, -0.17014877],\n",
            "       [-0.25708807,  0.0035453 ,  0.00309145, -0.08442114, -0.3322837 ,\n",
            "         0.33684507,  0.09118563, -0.2404531 , -0.07832707, -0.11884784],\n",
            "       [-0.05002793, -0.74312055, -0.10431266,  0.08361051, -0.36211252,\n",
            "        -0.45888144, -0.45169953, -0.19452916,  0.1925417 , -0.29630026]],\n",
            "      dtype=float32), array([-2.3675351e-01,  1.7387700e-01,  0.0000000e+00, -1.6463117e-01,\n",
            "        2.8527439e-01,  5.6581341e-02, -2.0080911e-19, -2.1763562e-01,\n",
            "       -1.4822810e-02,  2.8015250e-01], dtype=float32), array([[-0.1807977 ],\n",
            "       [ 0.49802065],\n",
            "       [ 0.59728676],\n",
            "       [-0.66634977],\n",
            "       [ 0.33519828],\n",
            "       [ 0.29568368],\n",
            "       [-0.3906535 ],\n",
            "       [-0.33324906],\n",
            "       [-0.08726532],\n",
            "       [ 0.5896543 ]], dtype=float32), array([0.13402025], dtype=float32)]\n"
          ],
          "name": "stdout"
        }
      ]
    }
  ]
}