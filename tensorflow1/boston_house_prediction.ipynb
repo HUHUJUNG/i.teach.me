{
  "nbformat": 4,
  "nbformat_minor": 0,
  "metadata": {
    "colab": {
      "name": "보스턴집값예측.ipynb",
      "provenance": [],
      "collapsed_sections": [],
      "authorship_tag": "ABX9TyPHj1If0vTplkUI42g2V8KI",
      "include_colab_link": true
    },
    "kernelspec": {
      "name": "python3",
      "display_name": "Python 3"
    }
  },
  "cells": [
    {
      "cell_type": "markdown",
      "metadata": {
        "id": "view-in-github",
        "colab_type": "text"
      },
      "source": [
        "<a href=\"https://colab.research.google.com/github/HUHUJUNG/i.teach.me/blob/main/tensorflow1/boston_house_prediction.ipynb\" target=\"_parent\"><img src=\"https://colab.research.google.com/assets/colab-badge.svg\" alt=\"Open In Colab\"/></a>"
      ]
    },
    {
      "cell_type": "markdown",
      "metadata": {
        "id": "S6WJZqpkoZVd"
      },
      "source": [
        "#라이브러리 불러오기"
      ]
    },
    {
      "cell_type": "code",
      "metadata": {
        "id": "kMHA5H-B1WPW"
      },
      "source": [
        "import tensorflow as tf\n",
        "import pandas as pd"
      ],
      "execution_count": 30,
      "outputs": []
    },
    {
      "cell_type": "markdown",
      "metadata": {
        "id": "GL8-uTMEmQ3T"
      },
      "source": [
        "###medean value(중앙값)\n",
        "\n",
        "아웃라이어가 평균 값에 많은 영향을 줄 때(평균이 대표성 지니지 못할 때) 사용"
      ]
    },
    {
      "cell_type": "markdown",
      "metadata": {
        "id": "2-lYjXLknOQD"
      },
      "source": [
        "#과거의 데이터를 준비하기"
      ]
    },
    {
      "cell_type": "code",
      "metadata": {
        "colab": {
          "base_uri": "https://localhost:8080/"
        },
        "id": "bFIMClcEnQpQ",
        "outputId": "c5724ba8-b4c4-4afd-f4f5-cbf8dcfd685e"
      },
      "source": [
        "boston = pd.read_csv(\"https://raw.githubusercontent.com/blackdew/tensorflow1/master/csv/boston.csv\")\n",
        "boston.shape"
      ],
      "execution_count": 31,
      "outputs": [
        {
          "output_type": "execute_result",
          "data": {
            "text/plain": [
              "(506, 14)"
            ]
          },
          "metadata": {
            "tags": []
          },
          "execution_count": 31
        }
      ]
    },
    {
      "cell_type": "code",
      "metadata": {
        "colab": {
          "base_uri": "https://localhost:8080/"
        },
        "id": "4__nmZmPo9SJ",
        "outputId": "8b1804e0-b01c-4164-cc97-26838c958d27"
      },
      "source": [
        "boston.columns"
      ],
      "execution_count": 32,
      "outputs": [
        {
          "output_type": "execute_result",
          "data": {
            "text/plain": [
              "Index(['crim', 'zn', 'indus', 'chas', 'nox', 'rm', 'age', 'dis', 'rad', 'tax',\n",
              "       'ptratio', 'b', 'lstat', 'medv'],\n",
              "      dtype='object')"
            ]
          },
          "metadata": {
            "tags": []
          },
          "execution_count": 32
        }
      ]
    },
    {
      "cell_type": "code",
      "metadata": {
        "colab": {
          "base_uri": "https://localhost:8080/"
        },
        "id": "CriHn5rVo-kW",
        "outputId": "dbf60e54-a9d0-4de2-ce63-29750bfd0f7a"
      },
      "source": [
        "independent = boston[['crim', 'zn', 'indus', 'chas', 'nox', 'rm', 'age', 'dis', 'rad', 'tax', 'ptratio', 'b', 'lstat']]\n",
        "dependent = boston[['medv']]\n",
        "\n",
        "independent_test = independent[0:5]\n",
        "independent_teach = independent[5:]\n",
        "dependent_test = dependent[0:5]\n",
        "dependent_teach = dependent[5:]\n",
        "\n",
        "print(\"independent : \", independent_test.shape, independent_teach.shape)\n",
        "print(\"dependent : \", dependent_test.shape, dependent_teach.shape)"
      ],
      "execution_count": 34,
      "outputs": [
        {
          "output_type": "stream",
          "text": [
            "independent :  (5, 13) (501, 13)\n",
            "dependent :  (5, 1) (501, 1)\n"
          ],
          "name": "stdout"
        }
      ]
    },
    {
      "cell_type": "markdown",
      "metadata": {
        "id": "e_BmKo7XnS7M"
      },
      "source": [
        "#모델 설계하기"
      ]
    },
    {
      "cell_type": "code",
      "metadata": {
        "colab": {
          "base_uri": "https://localhost:8080/"
        },
        "id": "ROe1uDdmnaRV",
        "outputId": "f9392827-c414-4516-913a-952f8e675f35"
      },
      "source": [
        "X = tf.keras.layers.Input(shape = [13])\n",
        "Y = tf.keras.layers.Dense(1)(X)\n",
        "model = tf.keras.models.Model(X, Y)\n",
        "model.compile(loss = 'mse')\n",
        "print(model)"
      ],
      "execution_count": 37,
      "outputs": [
        {
          "output_type": "stream",
          "text": [
            "<tensorflow.python.keras.engine.functional.Functional object at 0x7f6dc60e41d0>\n"
          ],
          "name": "stdout"
        }
      ]
    },
    {
      "cell_type": "markdown",
      "metadata": {
        "id": "WWsF1TVCnaXo"
      },
      "source": [
        "#모델 FIT하기"
      ]
    },
    {
      "cell_type": "code",
      "metadata": {
        "colab": {
          "base_uri": "https://localhost:8080/"
        },
        "id": "wS_jc14HncJD",
        "outputId": "f5d65044-04dd-42be-89ff-0653fff15895"
      },
      "source": [
        "model.fit(independent_teach, dependent_teach, epochs=1000, verbose = 0)\n",
        "model.fit(independent_teach, dependent_teach, epochs=7)"
      ],
      "execution_count": 38,
      "outputs": [
        {
          "output_type": "stream",
          "text": [
            "Epoch 1/7\n",
            "16/16 [==============================] - 0s 1ms/step - loss: 26.7838\n",
            "Epoch 2/7\n",
            "16/16 [==============================] - 0s 1ms/step - loss: 26.4052\n",
            "Epoch 3/7\n",
            "16/16 [==============================] - 0s 1ms/step - loss: 26.1380\n",
            "Epoch 4/7\n",
            "16/16 [==============================] - 0s 1ms/step - loss: 26.6314\n",
            "Epoch 5/7\n",
            "16/16 [==============================] - 0s 1ms/step - loss: 26.3751\n",
            "Epoch 6/7\n",
            "16/16 [==============================] - 0s 1ms/step - loss: 26.3521\n",
            "Epoch 7/7\n",
            "16/16 [==============================] - 0s 997us/step - loss: 26.2531\n"
          ],
          "name": "stdout"
        },
        {
          "output_type": "execute_result",
          "data": {
            "text/plain": [
              "<tensorflow.python.keras.callbacks.History at 0x7f6dc4708208>"
            ]
          },
          "metadata": {
            "tags": []
          },
          "execution_count": 38
        }
      ]
    },
    {
      "cell_type": "markdown",
      "metadata": {
        "id": "EfWoEb9WncS0"
      },
      "source": [
        "#모델 사용하기"
      ]
    },
    {
      "cell_type": "code",
      "metadata": {
        "colab": {
          "base_uri": "https://localhost:8080/"
        },
        "id": "LA1Md77FndQm",
        "outputId": "5174f21d-0c9d-4504-fe44-af2239a2fbd7"
      },
      "source": [
        "model.predict(independent_test)"
      ],
      "execution_count": 39,
      "outputs": [
        {
          "output_type": "execute_result",
          "data": {
            "text/plain": [
              "array([[29.01873 ],\n",
              "       [24.415276],\n",
              "       [29.926054],\n",
              "       [29.227898],\n",
              "       [28.591534]], dtype=float32)"
            ]
          },
          "metadata": {
            "tags": []
          },
          "execution_count": 39
        }
      ]
    },
    {
      "cell_type": "code",
      "metadata": {
        "colab": {
          "base_uri": "https://localhost:8080/",
          "height": 198
        },
        "id": "y9ZDQu5hrwbs",
        "outputId": "30c4b9bd-52fb-4a46-a1dc-f3dcc0924237"
      },
      "source": [
        "dependent_test"
      ],
      "execution_count": 40,
      "outputs": [
        {
          "output_type": "execute_result",
          "data": {
            "text/html": [
              "<div>\n",
              "<style scoped>\n",
              "    .dataframe tbody tr th:only-of-type {\n",
              "        vertical-align: middle;\n",
              "    }\n",
              "\n",
              "    .dataframe tbody tr th {\n",
              "        vertical-align: top;\n",
              "    }\n",
              "\n",
              "    .dataframe thead th {\n",
              "        text-align: right;\n",
              "    }\n",
              "</style>\n",
              "<table border=\"1\" class=\"dataframe\">\n",
              "  <thead>\n",
              "    <tr style=\"text-align: right;\">\n",
              "      <th></th>\n",
              "      <th>medv</th>\n",
              "    </tr>\n",
              "  </thead>\n",
              "  <tbody>\n",
              "    <tr>\n",
              "      <th>0</th>\n",
              "      <td>24.0</td>\n",
              "    </tr>\n",
              "    <tr>\n",
              "      <th>1</th>\n",
              "      <td>21.6</td>\n",
              "    </tr>\n",
              "    <tr>\n",
              "      <th>2</th>\n",
              "      <td>34.7</td>\n",
              "    </tr>\n",
              "    <tr>\n",
              "      <th>3</th>\n",
              "      <td>33.4</td>\n",
              "    </tr>\n",
              "    <tr>\n",
              "      <th>4</th>\n",
              "      <td>36.2</td>\n",
              "    </tr>\n",
              "  </tbody>\n",
              "</table>\n",
              "</div>"
            ],
            "text/plain": [
              "   medv\n",
              "0  24.0\n",
              "1  21.6\n",
              "2  34.7\n",
              "3  33.4\n",
              "4  36.2"
            ]
          },
          "metadata": {
            "tags": []
          },
          "execution_count": 40
        }
      ]
    },
    {
      "cell_type": "code",
      "metadata": {
        "colab": {
          "base_uri": "https://localhost:8080/"
        },
        "id": "m-0dQyotr_q2",
        "outputId": "147d0c6e-a2df-40f9-913f-9ce953164144"
      },
      "source": [
        "#모델의 수식 확인\n",
        "model.get_weights()"
      ],
      "execution_count": 41,
      "outputs": [
        {
          "output_type": "execute_result",
          "data": {
            "text/plain": [
              "[array([[-8.7104909e-02],\n",
              "        [ 7.3248930e-02],\n",
              "        [-5.5148907e-02],\n",
              "        [ 3.3937986e+00],\n",
              "        [ 2.0223253e+00],\n",
              "        [ 3.8257778e+00],\n",
              "        [ 1.9528659e-02],\n",
              "        [-8.3979863e-01],\n",
              "        [ 1.4583842e-01],\n",
              "        [-8.8064168e-03],\n",
              "        [-1.1339489e-03],\n",
              "        [ 1.5596720e-02],\n",
              "        [-5.8688301e-01]], dtype=float32), array([2.957752], dtype=float32)]"
            ]
          },
          "metadata": {
            "tags": []
          },
          "execution_count": 41
        }
      ]
    }
  ]
}